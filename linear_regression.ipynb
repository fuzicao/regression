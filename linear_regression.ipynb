{
 "cells": [
  {
   "cell_type": "markdown",
   "metadata": {},
   "source": [
    "<h2>gradient descent method for linear regression</h2>"
   ]
  },
  {
   "cell_type": "code",
   "execution_count": 1,
   "metadata": {},
   "outputs": [],
   "source": [
    "import numpy as np"
   ]
  },
  {
   "cell_type": "markdown",
   "metadata": {},
   "source": [
    "    y_pred = np.dot(X, beta) + b\n",
    "    loss = np.sum(np.product(y - np.dot(X, beta) - b, y - np.dot(X, beta) - b)) / y.size"
   ]
  },
  {
   "cell_type": "markdown",
   "metadata": {},
   "source": [
    "    grad_beta = 2 * np.dot((y - np.dot(X, beta) - b).T, (-X)).T / y.size\n",
    "    grad_b = - 2 * np.sum((y - np.dot(X, beta) - b).T) / y.size"
   ]
  },
  {
   "cell_type": "markdown",
   "metadata": {},
   "source": [
    "    beta, b = beta - grad_beta * alpha, b - grad_b * alpha"
   ]
  },
  {
   "cell_type": "code",
   "execution_count": 2,
   "metadata": {},
   "outputs": [],
   "source": [
    "def grad_descent(X, y, step, alpha):\n",
    "    n, k = X.shape\n",
    "    beta = np.random.rand(k, 1)\n",
    "    b = np.random.rand()\n",
    "    for s in range(step):\n",
    "        grad_beta = 2 * np.dot((y - np.dot(X, beta) - b).T, (-X)).T / n\n",
    "        grad_b = - 2 * np.sum((y - np.dot(X, beta) - b).T) / n\n",
    "        beta, b = beta - grad_beta * alpha, b - grad_b * alpha\n",
    "    return beta, b"
   ]
  },
  {
   "cell_type": "code",
   "execution_count": 3,
   "metadata": {},
   "outputs": [
    {
     "name": "stdout",
     "output_type": "stream",
     "text": [
      "beta: \n",
      "[[ 2.05756278]\n",
      " [-0.1419173 ]]\n",
      "\n",
      "\n",
      "b: \n",
      "0.46671747998824376\n",
      "\n",
      "\n",
      "y_pred: \n",
      "[[1.10510722]\n",
      " [1.88555714]\n",
      " [3.0207527 ]\n",
      " [3.97857544]\n",
      " [4.93639818]\n",
      " [6.07159373]]\n",
      "\n",
      "\n"
     ]
    }
   ],
   "source": [
    "y = np.array([1,2,3,4,5,6])\n",
    "y = y.reshape((6,1))\n",
    "X = np.array([[1,10],[1.4, 10.3],[2,11],[2.5, 11.5],[3,12],[3.6,12.7]])\n",
    "\n",
    "beta, b = grad_descent(X, y, 20000, 0.001)\n",
    "print('beta: \\n{}\\n\\n'.format(beta))\n",
    "print('b: \\n{}\\n\\n'.format(b))\n",
    "y_pred = np.dot(X, beta) + b\n",
    "print('y_pred: \\n{}\\n\\n'.format(y_pred))"
   ]
  },
  {
   "cell_type": "code",
   "execution_count": null,
   "metadata": {},
   "outputs": [],
   "source": []
  }
 ],
 "metadata": {
  "kernelspec": {
   "display_name": "Python 3",
   "language": "python",
   "name": "python3"
  },
  "language_info": {
   "codemirror_mode": {
    "name": "ipython",
    "version": 3
   },
   "file_extension": ".py",
   "mimetype": "text/x-python",
   "name": "python",
   "nbconvert_exporter": "python",
   "pygments_lexer": "ipython3",
   "version": "3.8.3"
  }
 },
 "nbformat": 4,
 "nbformat_minor": 4
}
