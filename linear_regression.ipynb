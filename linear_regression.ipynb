{
 "cells": [
  {
   "cell_type": "markdown",
   "metadata": {},
   "source": [
    "<h2>gradient descent method for linear regression</h2>"
   ]
  },
  {
   "cell_type": "code",
   "execution_count": 1,
   "metadata": {},
   "outputs": [],
   "source": [
    "import numpy as np\n",
    "from matplotlib import pyplot as plt"
   ]
  },
  {
   "cell_type": "markdown",
   "metadata": {},
   "source": [
    "Here, we review the relevant formulas.\n",
    "\n",
    "    y_pred = np.dot(X, beta) + b\n",
    "    loss = float(np.dot((y - np.dot(X, beta) - b).T, y - np.dot(X, beta) - b) / y.size)\n",
    "\n",
    "    grad_beta = - 2 * np.dot(X.T, y - np.dot(X, beta) - b) / y.size\n",
    "    grad_b = - 2 * np.sum(y - np.dot(X, beta) - b) / y.size\n",
    "\n",
    "    beta, b = beta - grad_beta * learning_rate, b - grad_b * learning_rate"
   ]
  },
  {
   "cell_type": "code",
   "execution_count": 2,
   "metadata": {},
   "outputs": [],
   "source": [
    "def pred(X, beta, b):\n",
    "    return np.dot(X, beta) + b\n",
    "\n",
    "def mse(X, y, beta, b):\n",
    "    return float(np.dot((y - np.dot(X, beta) - b).T, y - np.dot(X, beta) - b) / y.size)\n",
    "\n",
    "def grad_descent(X, y, n_steps, learning_rate):\n",
    "    n, k = X.shape\n",
    "    beta = np.random.rand(k, 1)\n",
    "    b = np.random.rand()\n",
    "    for step in range(n_steps):\n",
    "        grad_beta = - 2 * np.dot(X.T, y - np.dot(X, beta) - b) / n\n",
    "        grad_b = - 2 * np.sum(y - np.dot(X, beta) - b) / n\n",
    "        beta, b = beta - grad_beta * learning_rate, b - grad_b * learning_rate\n",
    "    return beta, b"
   ]
  },
  {
   "cell_type": "code",
   "execution_count": 3,
   "metadata": {},
   "outputs": [
    {
     "name": "stdout",
     "output_type": "stream",
     "text": [
      "beta: \n",
      "[[ 2.03446622]\n",
      " [-0.13098808]]\n",
      "\n",
      "\n",
      "b: \n",
      "0.3967183908942305\n",
      "\n",
      "\n",
      "y_pred: \n",
      "[[1.12130377]\n",
      " [1.89579383]\n",
      " [3.0247819 ]\n",
      " [3.97652097]\n",
      " [4.92826004]\n",
      " [6.05724811]]\n",
      "\n",
      "\n",
      "loss: \n",
      "0.005860484305225442\n"
     ]
    }
   ],
   "source": [
    "y = np.array([1,2,3,4,5,6])\n",
    "y = y.reshape((6,1))\n",
    "X = np.array([[1,10],[1.4, 10.3],[2,11],[2.5, 11.5],[3,12],[3.6,12.7]])\n",
    "\n",
    "beta, b = grad_descent(X, y, 5000, 0.001)\n",
    "print('beta: \\n{}\\n\\n'.format(beta))\n",
    "print('b: \\n{}\\n\\n'.format(b))\n",
    "y_pred = pred(X, beta, b)\n",
    "print('y_pred: \\n{}\\n\\n'.format(y_pred))\n",
    "loss = mse(X, y, beta, b)\n",
    "print('loss: \\n{}'.format(loss))"
   ]
  },
  {
   "cell_type": "code",
   "execution_count": 4,
   "metadata": {},
   "outputs": [],
   "source": [
    "def grad_descent_with_loss_history(X, y, n_steps, learning_rate):\n",
    "    n, k = X.shape\n",
    "    beta = np.random.rand(k, 1)\n",
    "    b = np.random.rand()\n",
    "    history = []\n",
    "    for step in range(n_steps):\n",
    "        grad_beta = - 2 * np.dot(X.T, y - np.dot(X, beta) - b) / n\n",
    "        grad_b = - 2 * np.sum(y - np.dot(X, beta) - b) / n\n",
    "        beta, b = beta - grad_beta * learning_rate, b - grad_b * learning_rate\n",
    "        history.append(mse(X, y, beta, b))\n",
    "    return beta, b, np.array(history)"
   ]
  },
  {
   "cell_type": "code",
   "execution_count": 5,
   "metadata": {},
   "outputs": [
    {
     "name": "stdout",
     "output_type": "stream",
     "text": [
      "beta: \n",
      "[[ 2.04657013]\n",
      " [-0.14173976]]\n",
      "\n",
      "\n",
      "b: \n",
      "0.49036966432355633\n",
      "\n",
      "\n"
     ]
    },
    {
     "data": {
      "image/png": "[encoded data removed]",
      "text/plain": [
       "<Figure size 432x288 with 1 Axes>"
      ]
     },
     "metadata": {
      "needs_background": "light"
     },
     "output_type": "display_data"
    }
   ],
   "source": [
    "y = np.array([1,2,3,4,5,6])\n",
    "y = y.reshape((6,1))\n",
    "X = np.array([[1,10],[1.4, 10.3],[2,11],[2.5, 11.5],[3,12],[3.6,12.7]])\n",
    "\n",
    "beta, b, the_history = grad_descent_with_loss_history(X, y, 5000, 0.001)\n",
    "print('beta: \\n{}\\n\\n'.format(beta))\n",
    "print('b: \\n{}\\n\\n'.format(b))\n",
    "\n",
    "plt.title(\"Training History\") \n",
    "plt.xlabel(\"step\") \n",
    "plt.ylabel(\"loss\") \n",
    "plt.plot(the_history)\n",
    "plt.show()"
   ]
  },
  {
   "cell_type": "code",
   "execution_count": null,
   "metadata": {},
   "outputs": [],
   "source": []
  }
 ],
 "metadata": {
  "kernelspec": {
   "display_name": "Python 3",
   "language": "python",
   "name": "python3"
  },
  "language_info": {
   "codemirror_mode": {
    "name": "ipython",
    "version": 3
   },
   "file_extension": ".py",
   "mimetype": "text/x-python",
   "name": "python",
   "nbconvert_exporter": "python",
   "pygments_lexer": "ipython3",
   "version": "3.8.3"
  }
 },
 "nbformat": 4,
 "nbformat_minor": 4
}
